{
 "cells": [
  {
   "cell_type": "markdown",
   "metadata": {},
   "source": [
    "## Introduction"
   ]
  },
  {
   "cell_type": "markdown",
   "metadata": {},
   "source": [
    "### The Problem\n",
    "In this project we will try to find optimal location for a coffee chain to open new store. Specifically, this report will be targeted to foreign coffee chain stakeholders interested in expanding their business to **New York City** (NYC).\n",
    "\n",
    "Since there are lots of coffee shops in NYC we will try to detect **locations that are not already crowded with coffee stores**. We would also prefer locations **close to colleges**, assuming that the city center is crowded with coffee stores."
   ]
  },
  {
   "cell_type": "markdown",
   "metadata": {},
   "source": [
    "### Data\n",
    "Based on definition of our problem, factors that will influence our decision are:\n",
    "* number of existing coffee shops in the neighborhood (both chain and local)\n",
    "* distance of neighborhood from colleges\n",
    "\n",
    "Following data sources will be needed to extract/generate the required information:\n",
    "* centers of candidate areas will be found from https://geo.nyu.edu/catalog/nyu_2451_34572\n",
    "* number of coffee shops and location in every neighborhood will be obtained using **Foursquare API**\n",
    "* coordinate of colleges will be obtained using **Foursquare API**"
   ]
  },
  {
   "cell_type": "code",
   "execution_count": null,
   "metadata": {},
   "outputs": [],
   "source": []
  }
 ],
 "metadata": {
  "kernelspec": {
   "display_name": "Python",
   "language": "python",
   "name": "conda-env-python-py"
  },
  "language_info": {
   "codemirror_mode": {
    "name": "ipython",
    "version": 3
   },
   "file_extension": ".py",
   "mimetype": "text/x-python",
   "name": "python",
   "nbconvert_exporter": "python",
   "pygments_lexer": "ipython3",
   "version": "3.6.7"
  }
 },
 "nbformat": 4,
 "nbformat_minor": 4
}
