{
 "cells": [
  {
   "cell_type": "markdown",
   "metadata": {},
   "source": [
    "# Introduction of Capstone Project"
   ]
  },
  {
   "cell_type": "markdown",
   "metadata": {},
   "source": [
    "### The Problem\n",
    "A Canadian coffee chain company is planning to expand their business, and would like to know if New York City is a good market. And to find the best neighborhoods to open new stores."
   ]
  },
  {
   "cell_type": "markdown",
   "metadata": {},
   "source": [
    "### The Data\n",
    "I would use the geographic data from Week 3 to get boroughs and neighborhoods information (https://geo.nyu.edu/catalog/nyu_2451_34572). \n",
    "\n",
    "Then use Foursquare to get venue information and follow the following steps to analyze.\n",
    "1. find all coffee shops in NYC\n",
    "2. separate them with chain and local, analyze reviews/scores\n",
    "3. briefly check the business or schools location (where potentially have more customer)\n",
    "4. compare between neighbors to find good location to open business."
   ]
  },
  {
   "cell_type": "code",
   "execution_count": null,
   "metadata": {},
   "outputs": [],
   "source": []
  }
 ],
 "metadata": {
  "kernelspec": {
   "display_name": "Python",
   "language": "python",
   "name": "conda-env-python-py"
  },
  "language_info": {
   "codemirror_mode": {
    "name": "ipython",
    "version": 3
   },
   "file_extension": ".py",
   "mimetype": "text/x-python",
   "name": "python",
   "nbconvert_exporter": "python",
   "pygments_lexer": "ipython3",
   "version": "3.6.7"
  }
 },
 "nbformat": 4,
 "nbformat_minor": 4
}
